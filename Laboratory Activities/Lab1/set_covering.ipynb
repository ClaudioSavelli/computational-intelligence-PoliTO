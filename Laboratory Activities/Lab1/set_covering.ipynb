{
 "cells": [
  {
   "cell_type": "markdown",
   "metadata": {},
   "source": [
    "# Lab 1 - A*\n",
    "\n",
    "An implementation of the A* search algorithm ideated and programmed by **Claudio Savelli (s)** & **Mattia Sabato (s305849)** during a cold and rainy October. We have designed the algorithm in order to not only reach the goal in the **fastest way** but also in a **smart way**. We achieve this by reducing the number of overlappings and by forcing a solution which has the less number of shared points in the sets considered."
   ]
  },
  {
   "cell_type": "code",
   "execution_count": 29,
   "metadata": {},
   "outputs": [],
   "source": [
    "from random import random\n",
    "from functools import reduce\n",
    "from collections import namedtuple, deque\n",
    "from queue import PriorityQueue, SimpleQueue, LifoQueue\n",
    "from time import time\n",
    "from math import ceil\n",
    "from tqdm.auto import tqdm\n",
    "\n",
    "import numpy as np"
   ]
  },
  {
   "cell_type": "code",
   "execution_count": 2,
   "metadata": {},
   "outputs": [],
   "source": [
    "# Set the configuration of the problem.\n",
    "PROBLEM_SIZE = 27    # Number of points to be covered.\n",
    "NUM_SETS = 100       # Number of sets in our pool.\n",
    "ALPHA = 0.5         # Probability for a set to cover one point.\n",
    "\n",
    "State = namedtuple('State', ['taken', 'not_taken'])\n",
    "\n",
    "SETS = tuple(np.array([random() < ALPHA for _ in range(PROBLEM_SIZE)]) \\\n",
    "                for _ in range (NUM_SETS))\n"
   ]
  },
  {
   "cell_type": "code",
   "execution_count": 3,
   "metadata": {},
   "outputs": [],
   "source": [
    "def goal_check(state: namedtuple) -> bool:\n",
    "    '''\n",
    "    Checks whether the problem is solvable and return `False` if not.\n",
    "    '''\n",
    "    return np.all(reduce(np.logical_or, [SETS[i] for i in state.taken], \\\n",
    "                         np.array([False for _ in range(PROBLEM_SIZE)])))\n",
    "\n",
    "\n",
    "def proximity(state: namedtuple) -> int:\n",
    "    '''\n",
    "    Computes the proximity between a candidate state and the goal by\n",
    "    summing the updated number of covered points.\n",
    "    '''\n",
    "    return sum(reduce(np.logical_or, [SETS[i] for i in state.taken],\n",
    "               np.array([False for _ in range(PROBLEM_SIZE)])))\n",
    "\n",
    "\n",
    "def cost(state) -> float:\n",
    "    '''\n",
    "    Computes the cost associated to a candidate state by summing the\n",
    "    overlappings over the same point.\n",
    "    '''\n",
    "    if len(state.taken) == 0:\n",
    "        return 0\n",
    "    else:\n",
    "        return sum(np.array([SETS[i] for i in state.taken]).sum(axis = 0))\n",
    "\n",
    "def count_overlaps(state) -> int:\n",
    "    temp = cost(state)\n",
    "    return temp - PROBLEM_SIZE\n",
    "\n",
    "assert goal_check(State(set(range(NUM_SETS)), set())), 'Problem not solvable'"
   ]
  },
  {
   "cell_type": "code",
   "execution_count": 4,
   "metadata": {},
   "outputs": [
    {
     "name": "stdout",
     "output_type": "stream",
     "text": [
      "Solved in 4,418 steps (3 tiles) in 19871ms\n",
      "State(taken={49, 30, 63}, not_taken={0, 1, 2, 3, 4, 5, 6, 7, 8, 9, 10, 11, 12, 13, 14, 15, 16, 17, 18, 19, 20, 21, 22, 23, 24, 25, 26, 27, 28, 29, 31, 32, 33, 34, 35, 36, 37, 38, 39, 40, 41, 42, 43, 44, 45, 46, 47, 48, 50, 51, 52, 53, 54, 55, 56, 57, 58, 59, 60, 61, 62, 64, 65, 66, 67, 68, 69, 70, 71, 72, 73, 74, 75, 76, 77, 78, 79, 80, 81, 82, 83, 84, 85, 86, 87, 88, 89, 90, 91, 92, 93, 94, 95, 96, 97, 98, 99})\n"
     ]
    }
   ],
   "source": [
    "frontier = PriorityQueue() \n",
    "# frontier = SimpleQueue()\n",
    "# frontier = LifoQueue()\n",
    "\n",
    "state = State(set(), set(range(NUM_SETS)))\n",
    "frontier.put((proximity(state), state))\n",
    "\n",
    "counter = 0\n",
    "_, current_state = frontier.get()\n",
    "\n",
    "tic = time()\n",
    "while not goal_check(current_state): \n",
    "\n",
    "    counter += 1\n",
    "\n",
    "    for action in current_state.not_taken:\n",
    "\n",
    "        new_state = State(current_state.taken ^ {action}, \\\n",
    "                          current_state.not_taken ^ {action})\n",
    "        frontier.put((cost(new_state) - proximity(new_state), new_state))\n",
    "    \n",
    "    _, current_state = frontier.get()\n",
    "    \n",
    "toc = time()\n",
    "\n",
    "print(f'Solved in {counter:,} steps ({len(current_state.taken)} tiles) \\\n",
    "in {(toc - tic)*1000:.0f}ms')\n",
    "print(current_state)"
   ]
  },
  {
   "cell_type": "code",
   "execution_count": 5,
   "metadata": {},
   "outputs": [
    {
     "name": "stdout",
     "output_type": "stream",
     "text": [
      "[False  True False False  True False False  True  True  True False  True\n",
      " False  True False False False False False  True False  True False False\n",
      " False False  True]\n",
      "[ True False  True  True False False False  True False False  True False\n",
      "  True False  True  True  True  True False  True  True False  True False\n",
      " False False False]\n",
      "[ True False False  True False  True  True False False False False False\n",
      " False False False  True False  True  True  True False False False  True\n",
      "  True  True False]\n"
     ]
    },
    {
     "data": {
      "text/plain": [
       "7"
      ]
     },
     "execution_count": 5,
     "metadata": {},
     "output_type": "execute_result"
    }
   ],
   "source": [
    "for state in current_state.taken:\n",
    "    print(SETS[state])\n",
    "\n",
    "count_overlaps(current_state)"
   ]
  },
  {
   "cell_type": "markdown",
   "metadata": {},
   "source": [
    "## Comparison with professor's solution implementing our cost function"
   ]
  },
  {
   "cell_type": "code",
   "execution_count": 6,
   "metadata": {},
   "outputs": [],
   "source": [
    "def covered(state):\n",
    "    return reduce(\n",
    "        np.logical_or,\n",
    "        [SETS[i] for i in state.taken],\n",
    "        np.array([False for _ in range(PROBLEM_SIZE)]),\n",
    "    )\n",
    "\n",
    "def h(state):\n",
    "    largest_set_size = max(sum(s) for s in SETS)\n",
    "    missing_size = PROBLEM_SIZE - sum(covered(state))\n",
    "    optimistic_estimate = ceil(missing_size / largest_set_size)\n",
    "    return optimistic_estimate\n",
    "\n",
    "\n",
    "def h2(state):\n",
    "    already_covered = covered(state)\n",
    "    if np.all(already_covered):\n",
    "        return 0\n",
    "    largest_set_size = max(sum(np.logical_and(s, np.logical_not(already_covered))) for s in SETS)\n",
    "    missing_size = PROBLEM_SIZE - sum(already_covered)\n",
    "    optimistic_estimate = ceil(missing_size / largest_set_size)\n",
    "    return optimistic_estimate\n",
    "\n",
    "\n",
    "def h3(state):\n",
    "    already_covered = covered(state)\n",
    "    if np.all(already_covered):\n",
    "        return 0\n",
    "    missing_size = PROBLEM_SIZE - sum(already_covered)\n",
    "    candidates = sorted((sum(np.logical_and(s, np.logical_not(already_covered))) for s in SETS), reverse=True)\n",
    "    taken = 1\n",
    "    while sum(candidates[:taken]) < missing_size:\n",
    "        taken += 1\n",
    "    return taken\n",
    "\n",
    "\n",
    "def f(state, h: str = 'h3'):\n",
    "    if h == 'h':\n",
    "        return len(state.taken) + h(state)\n",
    "    elif h == 'h2':\n",
    "        return len(state.taken) + h2(state)\n",
    "    elif h == 'h3':\n",
    "        return len(state.taken) + h3(state)"
   ]
  },
  {
   "cell_type": "code",
   "execution_count": 7,
   "metadata": {},
   "outputs": [
    {
     "name": "stdout",
     "output_type": "stream",
     "text": [
      "Solved in 26 steps (3 tiles) in 1411ms\n",
      "State(taken={2, 69, 54}, not_taken={0, 1, 3, 4, 5, 6, 7, 8, 9, 10, 11, 12, 13, 14, 15, 16, 17, 18, 19, 20, 21, 22, 23, 24, 25, 26, 27, 28, 29, 30, 31, 32, 33, 34, 35, 36, 37, 38, 39, 40, 41, 42, 43, 44, 45, 46, 47, 48, 49, 50, 51, 52, 53, 55, 56, 57, 58, 59, 60, 61, 62, 63, 64, 65, 66, 67, 68, 70, 71, 72, 73, 74, 75, 76, 77, 78, 79, 80, 81, 82, 83, 84, 85, 86, 87, 88, 89, 90, 91, 92, 93, 94, 95, 96, 97, 98, 99})\n"
     ]
    }
   ],
   "source": [
    "frontier = PriorityQueue() \n",
    "\n",
    "state = State(set(), set(range(NUM_SETS)))\n",
    "frontier.put((f(state), state))\n",
    "\n",
    "counter = 0\n",
    "_, current_state_prof = frontier.get()\n",
    "\n",
    "tic = time()\n",
    "while not goal_check(current_state_prof): \n",
    "\n",
    "    counter += 1\n",
    "\n",
    "    for action in current_state_prof.not_taken:\n",
    "\n",
    "        new_state = State(current_state_prof.taken ^ {action}, \\\n",
    "                          current_state_prof.not_taken ^ {action})\n",
    "        frontier.put((f(new_state), new_state))\n",
    "    \n",
    "    _, current_state_prof = frontier.get()\n",
    "    \n",
    "toc = time()\n",
    "\n",
    "print(f'Solved in {counter:,} steps ({len(current_state_prof.taken)} tiles) \\\n",
    "in {(toc - tic)*1000:.0f}ms')\n",
    "print(current_state_prof)"
   ]
  },
  {
   "cell_type": "code",
   "execution_count": 8,
   "metadata": {},
   "outputs": [
    {
     "name": "stdout",
     "output_type": "stream",
     "text": [
      "[ True False False False  True  True  True False False False False  True\n",
      "  True  True False  True  True  True  True  True False False False  True\n",
      "  True False  True]\n",
      "[False  True  True  True  True False  True  True  True  True False False\n",
      "  True  True  True  True False  True False  True False  True  True  True\n",
      " False  True  True]\n",
      "[ True  True False  True  True False  True False False False  True  True\n",
      "  True False  True  True False False False  True  True False  True False\n",
      " False False  True]\n"
     ]
    },
    {
     "data": {
      "text/plain": [
       "21"
      ]
     },
     "execution_count": 8,
     "metadata": {},
     "output_type": "execute_result"
    }
   ],
   "source": [
    "for state in current_state_prof.taken:\n",
    "    print(SETS[state])\n",
    "\n",
    "count_overlaps(current_state_prof)"
   ]
  },
  {
   "cell_type": "markdown",
   "metadata": {},
   "source": [
    "## Plot of the results "
   ]
  },
  {
   "cell_type": "markdown",
   "metadata": {},
   "source": [
    "Thanks to Beatrice Occhiena for the plot and the nice idea! "
   ]
  },
  {
   "cell_type": "code",
   "execution_count": 18,
   "metadata": {},
   "outputs": [
    {
     "name": "stdout",
     "output_type": "stream",
     "text": [
      "<class '__main__.State'>\n"
     ]
    },
    {
     "data": {
      "text/plain": [
       "3"
      ]
     },
     "execution_count": 18,
     "metadata": {},
     "output_type": "execute_result"
    }
   ],
   "source": [
    "print(type(current_state_prof))\n",
    "\n",
    "def take_state_from_set(state: set): \n",
    "    res = []\n",
    "    for elem in state:\n",
    "        res.append(SETS[elem])\n",
    "    return res"
   ]
  },
  {
   "cell_type": "code",
   "execution_count": 21,
   "metadata": {},
   "outputs": [
    {
     "data": {
      "image/png": "[encoded data removed]",
      "text/plain": [
       "<Figure size 700x200 with 1 Axes>"
      ]
     },
     "metadata": {},
     "output_type": "display_data"
    },
    {
     "data": {
      "image/png": "[encoded data removed]",
      "text/plain": [
       "<Figure size 700x200 with 1 Axes>"
      ]
     },
     "metadata": {},
     "output_type": "display_data"
    }
   ],
   "source": [
    "import matplotlib.pyplot as plt\n",
    "\n",
    "# plot the solution    \n",
    "def visualize_state_ordered(state, is_goal=False):\n",
    "    taken_sets = state.taken\n",
    "\n",
    "    plt.figure(figsize=(7, 2))\n",
    "    plt.imshow(take_state_from_set(state.taken), cmap='RdPu', aspect='auto')\n",
    "    plt.title(\"Current State\" if not is_goal else \"Goal State\")\n",
    "    plt.xlabel(\"Problem Elements\")\n",
    "    plt.xticks(np.arange(PROBLEM_SIZE))\n",
    "    plt.ylabel(\"Taken Sets\")\n",
    "    # on the ticks of the y axis, show the indices of the taken sets\n",
    "    plt.yticks(np.arange(len(taken_sets)), list(taken_sets))\n",
    "    plt.show()\n",
    "\n",
    "visualize_state_ordered(current_state_prof, is_goal=True)\n",
    "visualize_state_ordered(current_state, is_goal=False)"
   ]
  },
  {
   "cell_type": "markdown",
   "metadata": {},
   "source": [
    "# We won!"
   ]
  },
  {
   "cell_type": "markdown",
   "metadata": {},
   "source": [
    "# Additional experiments"
   ]
  },
  {
   "cell_type": "markdown",
   "metadata": {},
   "source": [
    "## Depth First Search"
   ]
  },
  {
   "cell_type": "code",
   "execution_count": 30,
   "metadata": {},
   "outputs": [
    {
     "name": "stderr",
     "output_type": "stream",
     "text": [
      "6it [00:00, 1310.79it/s]"
     ]
    },
    {
     "name": "stdout",
     "output_type": "stream",
     "text": [
      "Solved in 6 steps (6 tiles)\n"
     ]
    },
    {
     "name": "stderr",
     "output_type": "stream",
     "text": [
      "\n"
     ]
    }
   ],
   "source": [
    "frontier = deque()\n",
    "state = State(set(), set(range(NUM_SETS)))\n",
    "frontier.append(state)\n",
    "\n",
    "counter = 0\n",
    "current_state_dfs = frontier.pop()\n",
    "with tqdm(total=None) as pbar:\n",
    "    while not goal_check(current_state_dfs):\n",
    "        counter += 1\n",
    "        for action in current_state_dfs[1]:\n",
    "            new_state = State(\n",
    "                current_state_dfs.taken ^ {action},\n",
    "                current_state_dfs.not_taken ^ {action},\n",
    "            )\n",
    "            frontier.append(new_state)\n",
    "        current_state_dfs = frontier.pop()\n",
    "        pbar.update(1)\n",
    "\n",
    "print(f\"Solved in {counter:,} steps ({len(current_state_dfs.taken)} tiles)\")"
   ]
  },
  {
   "cell_type": "code",
   "execution_count": 31,
   "metadata": {},
   "outputs": [
    {
     "name": "stdout",
     "output_type": "stream",
     "text": [
      "[ True  True  True False  True False False False False False  True  True\n",
      "  True False False  True False False  True False False  True  True False\n",
      "  True  True False]\n",
      "[False  True  True False  True False  True  True  True False False  True\n",
      "  True  True False False False False  True False  True False False  True\n",
      " False  True False]\n",
      "[False  True  True  True  True False  True  True False  True  True  True\n",
      " False False False False  True  True  True False False False  True False\n",
      " False False False]\n",
      "[False  True False  True False  True  True False False False  True  True\n",
      " False  True  True  True False  True  True False False False  True False\n",
      "  True  True False]\n",
      "[False False False  True False False  True  True  True  True False  True\n",
      "  True False False  True False  True False  True  True False False  True\n",
      " False  True  True]\n",
      "[False  True  True False False False  True False False False  True  True\n",
      " False False False False False  True  True  True False False False  True\n",
      " False  True False]\n"
     ]
    },
    {
     "data": {
      "text/plain": [
       "50"
      ]
     },
     "execution_count": 31,
     "metadata": {},
     "output_type": "execute_result"
    }
   ],
   "source": [
    "for state in current_state_dfs.taken:\n",
    "    print(SETS[state])\n",
    "\n",
    "count_overlaps(current_state_dfs)"
   ]
  },
  {
   "cell_type": "markdown",
   "metadata": {},
   "source": [
    "## Greedy Best First"
   ]
  },
  {
   "cell_type": "code",
   "execution_count": 33,
   "metadata": {},
   "outputs": [],
   "source": [
    "def old_f(state):\n",
    "    missing_size = PROBLEM_SIZE - sum(covered(state))\n",
    "    return missing_size"
   ]
  },
  {
   "cell_type": "code",
   "execution_count": 34,
   "metadata": {},
   "outputs": [
    {
     "name": "stderr",
     "output_type": "stream",
     "text": [
      "3it [00:00, 500.22it/s]"
     ]
    },
    {
     "name": "stdout",
     "output_type": "stream",
     "text": [
      "Solved in 3 steps (3 tiles)\n"
     ]
    },
    {
     "name": "stderr",
     "output_type": "stream",
     "text": [
      "\n"
     ]
    }
   ],
   "source": [
    "frontier = PriorityQueue()\n",
    "state = State(set(), set(range(NUM_SETS)))\n",
    "frontier.put((old_f(state), state))\n",
    "\n",
    "counter = 0\n",
    "_, current_state_gbf = frontier.get()\n",
    "with tqdm(total=None) as pbar:\n",
    "    while not goal_check(current_state_gbf):\n",
    "        counter += 1\n",
    "        for action in current_state_gbf[1]:\n",
    "            new_state = State(\n",
    "                current_state_gbf.taken ^ {action},\n",
    "                current_state_gbf.not_taken ^ {action},\n",
    "            )\n",
    "            frontier.put((old_f(new_state), new_state))\n",
    "        _, current_state_gbf = frontier.get()\n",
    "        pbar.update(1)\n",
    "\n",
    "print(f\"Solved in {counter:,} steps ({len(current_state_gbf.taken)} tiles)\")"
   ]
  },
  {
   "cell_type": "code",
   "execution_count": 35,
   "metadata": {},
   "outputs": [
    {
     "name": "stdout",
     "output_type": "stream",
     "text": [
      "[False  True  True False  True False  True  True  True False False  True\n",
      "  True  True False  True  True  True False  True  True False False  True\n",
      "  True  True  True]\n",
      "[ True  True  True  True  True  True  True False False False  True False\n",
      "  True False False  True  True  True  True False  True  True  True  True\n",
      " False  True  True]\n",
      "[False False  True False  True False  True  True  True  True False  True\n",
      "  True False  True  True  True False  True  True False  True False  True\n",
      "  True False  True]\n"
     ]
    },
    {
     "data": {
      "text/plain": [
       "27"
      ]
     },
     "execution_count": 35,
     "metadata": {},
     "output_type": "execute_result"
    }
   ],
   "source": [
    "for state in current_state_gbf.taken:\n",
    "    print(SETS[state])\n",
    "\n",
    "count_overlaps(current_state_gbf)"
   ]
  }
 ],
 "metadata": {
  "kernelspec": {
   "display_name": "base",
   "language": "python",
   "name": "python3"
  },
  "language_info": {
   "codemirror_mode": {
    "name": "ipython",
    "version": 3
   },
   "file_extension": ".py",
   "mimetype": "text/x-python",
   "name": "python",
   "nbconvert_exporter": "python",
   "pygments_lexer": "ipython3",
   "version": "3.10.11"
  }
 },
 "nbformat": 4,
 "nbformat_minor": 2
}
