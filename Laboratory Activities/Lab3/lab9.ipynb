{
 "cells": [
  {
   "cell_type": "markdown",
   "metadata": {},
   "source": [
    "Copyright **`(c)`** 2023 Giovanni Squillero `<giovanni.squillero@polito.it>`  \n",
    "[`https://github.com/squillero/computational-intelligence`](https://github.com/squillero/computational-intelligence)  \n",
    "Free for personal or classroom use; see [`LICENSE.md`](https://github.com/squillero/computational-intelligence/blob/master/LICENSE.md) for details.  "
   ]
  },
  {
   "cell_type": "markdown",
   "metadata": {},
   "source": [
    "# LAB9\n",
    "\n",
    "Write a local-search algorithm (eg. an EA) able to solve the *Problem* instances 1, 2, 5, and 10 on a 1000-loci genomes, using a minimum number of fitness calls. That's all.\n",
    "\n",
    "### Deadlines:\n",
    "\n",
    "* Submission: Sunday, December 3 ([CET](https://www.timeanddate.com/time/zones/cet))\n",
    "* Reviews: Sunday, December 10 ([CET](https://www.timeanddate.com/time/zones/cet))\n",
    "\n",
    "Notes:\n",
    "\n",
    "* Reviews will be assigned  on Monday, December 4\n",
    "* You need to commit in order to be selected as a reviewer (ie. better to commit an empty work than not to commit)"
   ]
  },
  {
   "cell_type": "code",
   "execution_count": null,
   "metadata": {},
   "outputs": [],
   "source": [
    "from numpy import random\n",
    "from random import choices\n",
    "from tqdm import tqdm\n",
    "\n",
    "import lab9_lib\n",
    "import numpy as np\n",
    "import copy\n",
    "import matplotlib.pyplot as plt"
   ]
  },
  {
   "cell_type": "code",
   "execution_count": null,
   "metadata": {},
   "outputs": [],
   "source": [
    "POP_SIZE = 10          # Number of parents\n",
    "N_OFFSPRINGS = 30      # Number of children\n",
    "N_GENERATIONS = 10000   # Number of generations\n",
    "TOP_K = 30              # Number of parents from which generating the offsprings\n",
    "SIZE = 1000               # Size of the genome\n",
    "PROBLEM_SIZE = 5       # Size of the problem"
   ]
  },
  {
   "cell_type": "code",
   "execution_count": null,
   "metadata": {},
   "outputs": [],
   "source": [
    "def generate_random_individual(): \n",
    "    ind = random.choice([0, 1], size=SIZE)\n",
    "    return ind"
   ]
  },
  {
   "cell_type": "code",
   "execution_count": null,
   "metadata": {},
   "outputs": [],
   "source": [
    "fitness = lab9_lib.make_problem(2)\n",
    "for n in range(10):\n",
    "    ind = generate_random_individual()\n",
    "    print(f\"{''.join(str(g) for g in ind)}: {fitness(ind):.2%}\")\n",
    "\n",
    "print(fitness.calls)"
   ]
  },
  {
   "cell_type": "markdown",
   "metadata": {},
   "source": [
    "# Ideas"
   ]
  },
  {
   "cell_type": "markdown",
   "metadata": {},
   "source": [
    "## Tricks and ideas\n",
    "\n",
    "- Save configurations + fitness in a dictionary to avoid repetitions\n",
    "- Create a CNN+FC to, first extract the genome information (necessary spatial information) and then predict the associated fitness\n",
    "\n",
    "\n",
    "## Island\n",
    "\n",
    "- Generate K islands, evolve them independently and, each N mutations, let one individual from each travel to others (one individual can travel to multiple islands?). How to choose the individual?\n",
    "\n",
    "\n",
    "## Mutation\n",
    "\n",
    "- Change the bit with a given probability. How many bits to mutate?\n",
    "\n",
    "\n",
    "## Save the best\n",
    "\n",
    "- Elitism: copy the champion into the offsprings without modifications\n",
    "- Valhalla: keep the best apart and, from time to time, put them back in the population\n",
    "\n",
    "\n",
    "## Recombination\n",
    "\n",
    "- Implement one cuts/two cuts/n cuts\n",
    "- Do it choosing the idx through a Gaussian\n",
    "\n",
    "\n",
    "## Parent selection (semi stochastic)\n",
    "\n",
    "- Try roulette (linearized proportional to fitness, trouble with big populations)\n",
    "- Try tournament (increase size to increase pressure)\n",
    "\n",
    "\n",
    "## Survival selection (fully deterministic)\n",
    "\n",
    "- Filter only the top K fittest individuals"
   ]
  },
  {
   "cell_type": "markdown",
   "metadata": {},
   "source": [
    "# Our Solution"
   ]
  },
  {
   "cell_type": "markdown",
   "metadata": {},
   "source": [
    "## V1.0\n",
    "\n",
    "The simplest approach."
   ]
  },
  {
   "cell_type": "code",
   "execution_count": null,
   "metadata": {},
   "outputs": [],
   "source": [
    "def mutate_bit(individual : np.array) -> np.array:\n",
    "    \n",
    "    idx = np.random.randint(0, len(individual))\n",
    "    mutated_individual = copy.deepcopy(individual)\n",
    "    mutated_individual[idx] = int(not(bool(mutated_individual[idx])))\n",
    "    return mutated_individual\n",
    "\n",
    "\n",
    "def roulette_selection(individuals : np.array, fitness : np.array) -> np.array:\n",
    "\n",
    "    # Select top K fittest individuals and return N_OFFSPRINGS couple of individuals.\n",
    "    parents = choices(individuals, weights=np.array(fitness)/sum(fitness), k=2)\n",
    "    return (parents[0], parents[1]) # Return a tuple of two individuals.\n",
    "\n",
    "\n",
    "def one_cut_xover(couple : tuple) -> np.array:\n",
    "\n",
    "    idx = np.random.randint(1, len(couple[0]) - 1)\n",
    "    return np.concatenate((couple[0][:idx], couple[1][idx:]))"
   ]
  },
  {
   "cell_type": "code",
   "execution_count": null,
   "metadata": {},
   "outputs": [],
   "source": [
    "fitness = lab9_lib.make_problem(PROBLEM_SIZE)\n",
    "pop = np.array([generate_random_individual() for _ in range(POP_SIZE)])"
   ]
  },
  {
   "cell_type": "code",
   "execution_count": null,
   "metadata": {},
   "outputs": [],
   "source": [
    "fitnessses = np.array([fitness(elem) for elem in pop])\n",
    "parents = np.array([roulette_selection(pop, fitnessses) for _ in range(N_OFFSPRINGS)])\n",
    "\n",
    "for _ in tqdm(range(N_GENERATIONS)):\n",
    "        \n",
    "    recombinated_offsprings = np.array([one_cut_xover(couple) for couple in parents])\n",
    "    mutated_offsprings = np.array([mutate_bit(ind) for ind in recombinated_offsprings])\n",
    "    fit = np.array([fitness(ind) for ind in mutated_offsprings])\n",
    "    survived = mutated_offsprings[np.argsort(fit) < POP_SIZE]\n",
    "    if (fit > 0.95).any():\n",
    "        break\n",
    "    fitnessses = np.array([fitness(elem) for elem in pop])\n",
    "    parents = np.array([roulette_selection(pop, fitnessses) for _ in range(N_OFFSPRINGS)])"
   ]
  },
  {
   "cell_type": "code",
   "execution_count": null,
   "metadata": {},
   "outputs": [],
   "source": [
    "mutated_fitness = list(map(fitness, mutated_offsprings))\n",
    "ordered_mutated = [_ for _, x in sorted(zip(mutated_offsprings, mutated_fitness), key=lambda pair: pair[1], reverse=True)]\n",
    "\n",
    "for sur in ordered_mutated:\n",
    "    print(f\"{''.join(str(g) for g in sur)}: {fitness(sur):.2%}\")"
   ]
  },
  {
   "cell_type": "code",
   "execution_count": null,
   "metadata": {},
   "outputs": [],
   "source": [
    "fitness.calls"
   ]
  },
  {
   "cell_type": "markdown",
   "metadata": {},
   "source": [
    "# V1.1"
   ]
  },
  {
   "cell_type": "code",
   "execution_count": null,
   "metadata": {},
   "outputs": [],
   "source": [
    "def reproduce1(couple : tuple) -> np.array:\n",
    "    new_ind = copy.deepcopy(couple[0])\n",
    "    for i in range(len(couple[0])):\n",
    "        # mucho faster cosi\n",
    "        if couple[0][i] == couple[1][i]:\n",
    "            continue\n",
    "        gene_giver = random.choice([0,1])\n",
    "        new_ind[i] = couple[gene_giver][i]\n",
    "    return new_ind"
   ]
  },
  {
   "cell_type": "code",
   "execution_count": null,
   "metadata": {},
   "outputs": [],
   "source": [
    "fitness = lab9_lib.make_problem(PROBLEM_SIZE)\n",
    "pop = np.array([generate_random_individual() for _ in range(POP_SIZE)])"
   ]
  },
  {
   "cell_type": "code",
   "execution_count": null,
   "metadata": {},
   "outputs": [],
   "source": [
    "fitnessses = np.array([fitness(elem) for elem in pop])\n",
    "parents = np.array([roulette_selection(pop, fitnessses) for _ in range(N_OFFSPRINGS)])\n",
    "\n",
    "for _ in tqdm(range(N_GENERATIONS)):\n",
    "        \n",
    "    recombinated_offsprings = np.array([reproduce1(couple) for couple in parents])\n",
    "    mutated_offsprings = np.array([mutate_bit(ind) for ind in recombinated_offsprings])\n",
    "    fit = np.array([fitness(ind) for ind in mutated_offsprings])\n",
    "    survived = mutated_offsprings[np.argsort(fit) < POP_SIZE]\n",
    "    if (fit > 0.95).any():\n",
    "        break\n",
    "    fitnessses = np.array([fitness(elem) for elem in pop])\n",
    "    parents = np.array([roulette_selection(pop, fitnessses) for _ in range(N_OFFSPRINGS)])"
   ]
  },
  {
   "cell_type": "code",
   "execution_count": null,
   "metadata": {},
   "outputs": [],
   "source": [
    "mutated_fitness = list(map(fitness, mutated_offsprings))\n",
    "ordered_mutated = [_ for _, x in sorted(zip(mutated_offsprings, mutated_fitness), key=lambda pair: pair[1], reverse=True)]\n",
    "\n",
    "for sur in ordered_mutated:\n",
    "    print(f\"{''.join(str(g) for g in sur)}: {fitness(sur):.2%}\")"
   ]
  },
  {
   "cell_type": "code",
   "execution_count": null,
   "metadata": {},
   "outputs": [],
   "source": [
    "fitness.calls"
   ]
  },
  {
   "cell_type": "markdown",
   "metadata": {},
   "source": [
    "# V1.3"
   ]
  },
  {
   "cell_type": "markdown",
   "metadata": {},
   "source": [
    "Memoization of the fitness function."
   ]
  },
  {
   "cell_type": "code",
   "execution_count": null,
   "metadata": {},
   "outputs": [],
   "source": [
    "memoization = {}\n",
    "def memoization(individual: np.array) -> float:\n",
    "    already_seen = False\n",
    "    if memoization.get(individual.tobytes()) is None:\n",
    "        already_seen = True\n",
    "        memoization[individual.tobytes()] = fitness(individual)\n",
    "    return (memoization[individual.tobytes()], already_seen)\n"
   ]
  },
  {
   "cell_type": "code",
   "execution_count": null,
   "metadata": {},
   "outputs": [],
   "source": [
    "fitness = lab9_lib.make_problem(PROBLEM_SIZE)\n",
    "pop = np.array([generate_random_individual() for _ in range(POP_SIZE)])"
   ]
  },
  {
   "cell_type": "code",
   "execution_count": null,
   "metadata": {},
   "outputs": [],
   "source": [
    "parents = roulette_selection(TOP_K, pop, [fitness(ind) for ind in pop])\n",
    "\n",
    "for _ in tqdm(range(N_GENERATIONS)):\n",
    "        \n",
    "    recombinated_offsprings = map(reproduce1, parents)\n",
    "    mutated_offsprings = np.array(list(map(mutate_bit, recombinated_offsprings)))\n",
    "    fit = np.array(list(map(memoization, mutated_offsprings)))\n",
    "    survived = mutated_offsprings[np.argsort(fit) < POP_SIZE]\n",
    "    if (fit > 0.95).any():\n",
    "        break\n",
    "    parents = roulette_selection(TOP_K, survived, [fitness(ind) for ind in survived])"
   ]
  },
  {
   "cell_type": "code",
   "execution_count": null,
   "metadata": {},
   "outputs": [],
   "source": [
    "mutated_fitness = list(map(fitness, mutated_offsprings))\n",
    "ordered_mutated = [_ for _, x in sorted(zip(mutated_offsprings, mutated_fitness), key=lambda pair: pair[1], reverse=True)]\n",
    "\n",
    "for sur in ordered_mutated:\n",
    "    print(f\"{''.join(str(g) for g in sur)}: {fitness(sur):.2%}\")"
   ]
  },
  {
   "cell_type": "code",
   "execution_count": null,
   "metadata": {},
   "outputs": [],
   "source": [
    "fitness.calls()"
   ]
  },
  {
   "cell_type": "markdown",
   "metadata": {},
   "source": [
    "## V1.5\n",
    "Basic implementation of the Valhalla loading the champions at every epoch."
   ]
  },
  {
   "cell_type": "code",
   "execution_count": null,
   "metadata": {},
   "outputs": [],
   "source": [
    "POP_SIZE = 100          # Number of parents\n",
    "N_OFFSPRINGS = 300      # Number of children\n",
    "N_GENERATIONS = 10000   # Number of generations\n",
    "TOP_K = 30              # Number of parents from which generating the offsprings\n",
    "EPOCH = 30              # Number of generation to reintroduce the best fitting\n",
    "N_CHAMPIONS = 4         # Number of champions that will rest in the Valhalla\n",
    "SIZE = 50               # Size of the genome\n",
    "\n",
    "\n",
    "pop = []\n",
    "for _ in range(POP_SIZE):\n",
    "    pop.append(choices([0, 1], k=SIZE))"
   ]
  },
  {
   "cell_type": "code",
   "execution_count": null,
   "metadata": {},
   "outputs": [],
   "source": [
    "parents = roulette_selection(TOP_K, pop, [fitness(ind) for ind in pop])\n",
    "\n",
    "# 3 is the number of N_CHAMPIONS that can be stored simultaneously. For example,\n",
    "# if N_CHAMPIONS == 4, the valhalla can store up to 12 champions.\n",
    "valhalla = np.empty(shape = (3 * N_CHAMPIONS, SIZE), dtype=np.int16)   \n",
    "max_fit = []\n",
    "avg_fit = []\n",
    "\n",
    "for _ in range(N_GENERATIONS):\n",
    "    \n",
    "    recombinated_offsprings = map(one_cut_xover, parents)\n",
    "    mutated_offsprings = np.array(list(map(mutate_bit, recombinated_offsprings)))\n",
    "    fit = np.array(list(map(fitness, mutated_offsprings)))\n",
    "    \n",
    "    survived = mutated_offsprings[np.argsort(fit) < POP_SIZE]\n",
    "    max_fit.append(max(fit))        # Simple statistics\n",
    "    avg_fit.append(np.mean(fit))\n",
    "    \n",
    "    if (fit > 0.95).any():\n",
    "        break\n",
    "    \n",
    "    # Every 10 generations, pick the champions and put them in a buffer, which, once full\n",
    "    # (size equal to 3 * N_CHAMPIONS) keeps the most recent 2 * N_CHAMPIONS and substitutes\n",
    "    # the oldest 1 * N_CHAMPIONS with the ones just computed.\n",
    "    if _ % 10 == 0 and _ != 0:\n",
    "        champions = mutated_offsprings[np.argsort(fit) < N_CHAMPIONS]\n",
    "        start = (((_ - 1) % EPOCH) // 10) * 4\n",
    "        end = (((_ - 1) % EPOCH) // 10) * 4 + 4\n",
    "        valhalla[start:end, :] = mutated_offsprings[np.argsort(fit) < N_CHAMPIONS]\n",
    "\n",
    "    # Every epoch, load the valhalla e compute the parents.\n",
    "    if _ % EPOCH == 0 and _ != 0:\n",
    "        survived = np.concatenate((survived, valhalla))\n",
    "\n",
    "    # Introduce some randomicity in order to inject champions from time to time.\n",
    "    if random() < 0.5 and (_ % EPOCH == 0 and _ != 0):\n",
    "        survived = np.concatenate((survived, choices(valhalla, k = 4)))\n",
    "\n",
    "    parents = roulette_selection(TOP_K, survived, [fitness(ind) for ind in survived])\n",
    "    print(_)\n",
    "    # print(_)"
   ]
  },
  {
   "cell_type": "code",
   "execution_count": null,
   "metadata": {},
   "outputs": [],
   "source": [
    "mutated_fitness = list(map(fitness, mutated_offsprings))\n",
    "ordered_mutated = [_ for _, x in sorted(zip(mutated_offsprings, mutated_fitness), key=lambda pair: pair[1], reverse=True)]\n",
    "\n",
    "for sur in ordered_mutated:\n",
    "    print(f\"{''.join(str(g) for g in sur)}: {fitness(sur):.2%}\")"
   ]
  },
  {
   "cell_type": "code",
   "execution_count": null,
   "metadata": {},
   "outputs": [],
   "source": [
    "plt.plot(range(len(avg_fit)), avg_fit)"
   ]
  },
  {
   "cell_type": "markdown",
   "metadata": {},
   "source": [
    "## V2.0"
   ]
  },
  {
   "cell_type": "code",
   "execution_count": null,
   "metadata": {},
   "outputs": [],
   "source": [
    "N_ISLANDS = 5           # Number of different populations\n",
    "POP_SIZE = 100          # Number of parents\n",
    "N_OFFSPRINGS = 300      # Number of children\n",
    "N_GENERATIONS = 10000   # Number of generations\n",
    "TOP_K = 30              # Number of parents from which generating the offsprings\n",
    "EPOCH = 50              # Number of generation to reintroduce the best fitting.\n",
    "\n",
    "globe = {f'island{k}' : [] for k in range(N_ISLANDS)}\n",
    "\n",
    "for n in range(N_ISLANDS):\n",
    "    for _ in range(POP_SIZE):\n",
    "        globe[f'island{n}'].append(choices([0, 1], k=30))\n",
    "        \n",
    "italy = globe['island0']"
   ]
  },
  {
   "cell_type": "code",
   "execution_count": null,
   "metadata": {},
   "outputs": [],
   "source": [
    "def mutate_bits(individual : list) -> list:\n",
    "    '''\n",
    "    Mutate every bit with a given probability\n",
    "    '''\n",
    "    # TODO\n",
    "    idx = np.random.randint(0, len(individual), size = len(individual))\n",
    "    mutated_individual = copy.deepcopy(individual)\n",
    "    np.random.random(size = len(individual))\n",
    "    if np.random.random() < 0.9:\n",
    "        mutated_individual[idx] = int(not(bool(mutated_individual[idx])))\n",
    "    return mutated_individual\n"
   ]
  }
 ],
 "metadata": {
  "kernelspec": {
   "display_name": "ci-fLJ3OwGs-py3.12",
   "language": "python",
   "name": "python3"
  },
  "language_info": {
   "codemirror_mode": {
    "name": "ipython",
    "version": 3
   },
   "file_extension": ".py",
   "mimetype": "text/x-python",
   "name": "python",
   "nbconvert_exporter": "python",
   "pygments_lexer": "ipython3",
   "version": "3.10.11"
  }
 },
 "nbformat": 4,
 "nbformat_minor": 2
}
