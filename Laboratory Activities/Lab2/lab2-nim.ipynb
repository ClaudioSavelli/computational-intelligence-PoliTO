{
 "cells": [
  {
   "cell_type": "markdown",
   "metadata": {
    "pycharm": {
     "name": "#%% md\n"
    }
   },
   "source": [
    "Copyright **`(c)`** 2022 Giovanni Squillero `<squillero@polito.it>`  \n",
    "[`https://github.com/squillero/computational-intelligence`](https://github.com/squillero/computational-intelligence)  \n",
    "Free for personal or classroom use; see [`LICENSE.md`](https://github.com/squillero/computational-intelligence/blob/master/LICENSE.md) for details.  \n"
   ]
  },
  {
   "cell_type": "markdown",
   "metadata": {
    "pycharm": {
     "name": "#%%\n"
    }
   },
   "source": [
    "# Lab 3: ES\n",
    "\n",
    "## Task\n",
    "\n",
    "Write agents able to play [*Nim*](https://en.wikipedia.org/wiki/Nim), with an arbitrary number of rows and an upper bound $k$ on the number of objects that can be removed in a turn (a.k.a., *subtraction game*).\n",
    "\n",
    "The goal of the game is to **avoid** taking the last object.\n",
    "\n",
    "* Task2.1: An agent using fixed rules based on *nim-sum* (i.e., an *expert system*)\n",
    "* Task2.2: An agent using evolved rules using ES\n",
    "\n",
    "## Instructions\n",
    "\n",
    "* Create the directory `lab2` inside your personal course repository for the course \n",
    "* Put a `README.md` and your solution (all the files, code and auxiliary data if needed)\n",
    "\n",
    "## Notes\n",
    "\n",
    "* Working in group is not only allowed, but recommended (see: [Ubuntu](https://en.wikipedia.org/wiki/Ubuntu_philosophy) and [Cooperative Learning](https://files.eric.ed.gov/fulltext/EJ1096789.pdf)). Collaborations must be explicitly declared in the `README.md`.\n",
    "* [Yanking](https://www.emacswiki.org/emacs/KillingAndYanking) from the internet is allowed, but sources must be explicitly declared in the `README.md`.\n",
    "\n"
   ]
  },
  {
   "cell_type": "code",
   "execution_count": 1,
   "metadata": {},
   "outputs": [],
   "source": [
    "import logging\n",
    "from pprint import pprint, pformat\n",
    "from collections import namedtuple\n",
    "import random\n",
    "from copy import deepcopy\n",
    "\n",
    "import matplotlib.pyplot as plt\n",
    "import numpy as np\n",
    "from tqdm import tqdm"
   ]
  },
  {
   "cell_type": "markdown",
   "metadata": {},
   "source": [
    "## The *Nim* and *Nimply* classes"
   ]
  },
  {
   "cell_type": "code",
   "execution_count": 2,
   "metadata": {},
   "outputs": [],
   "source": [
    "Nimply = namedtuple(\"Nimply\", \"row, num_objects\")\n"
   ]
  },
  {
   "cell_type": "code",
   "execution_count": 3,
   "metadata": {},
   "outputs": [],
   "source": [
    "class Nim:\n",
    "    def __init__(self, num_rows: int, k: int = None) -> None:\n",
    "        self._rows = [i * 2 + 1 for i in range(num_rows)]\n",
    "        self._k = k\n",
    "\n",
    "    def __bool__(self):\n",
    "        return bool(sum(self._rows) > 0)\n",
    "\n",
    "    def __str__(self):\n",
    "        return \"<\" + \" \".join(str(_) for _ in self._rows) + \">\"\n",
    "\n",
    "    @property\n",
    "    def rows(self) -> tuple:\n",
    "        return tuple(self._rows)\n",
    "\n",
    "    def nimming(self, ply: Nimply) -> None:\n",
    "        row, num_objects = ply\n",
    "        assert self._rows[row] >= num_objects\n",
    "        assert self._k is None or num_objects <= self._k\n",
    "        self._rows[row] -= num_objects\n",
    "    \n",
    "    def n_possible_moves(self) -> int:\n",
    "        return sum(self._rows)\n"
   ]
  },
  {
   "cell_type": "markdown",
   "metadata": {},
   "source": [
    "## Sample (and silly) startegies "
   ]
  },
  {
   "cell_type": "code",
   "execution_count": 4,
   "metadata": {},
   "outputs": [],
   "source": [
    "def pure_random(state: Nim) -> Nimply:\n",
    "    \"\"\"A completely random move\"\"\"\n",
    "    row = random.choice([r for r, c in enumerate(state.rows) if c > 0])\n",
    "    num_objects = random.randint(1, state.rows[row])\n",
    "    return Nimply(row, num_objects)\n"
   ]
  },
  {
   "cell_type": "code",
   "execution_count": 5,
   "metadata": {},
   "outputs": [],
   "source": [
    "def gabriele(state: Nim) -> Nimply:\n",
    "    \"\"\"Pick always the maximum possible number of the lowest row\"\"\"\n",
    "    possible_moves = [(r, o) for r, c in enumerate(state.rows) for o in range(1, c + 1)]\n",
    "    return Nimply(*max(possible_moves, key=lambda m: (-m[0], m[1])))\n"
   ]
  },
  {
   "cell_type": "code",
   "execution_count": 7,
   "metadata": {},
   "outputs": [],
   "source": [
    "import numpy as np\n",
    "\n",
    "\n",
    "def nim_sum(state: Nim) -> int:\n",
    "    tmp = np.array([tuple(int(x) for x in f\"{c:032b}\") for c in state.rows])\n",
    "    xor = tmp.sum(axis=0) % 2\n",
    "    return int(\"\".join(str(_) for _ in xor), base=2)\n",
    "\n",
    "\n",
    "def analize(raw: Nim) -> dict:\n",
    "    cooked = dict()\n",
    "    cooked[\"possible_moves\"] = dict()\n",
    "    for ply in (Nimply(r, o) for r, c in enumerate(raw.rows) for o in range(1, c + 1)):\n",
    "        tmp = deepcopy(raw)\n",
    "        tmp.nimming(ply)\n",
    "        cooked[\"possible_moves\"][ply] = nim_sum(tmp)\n",
    "    return cooked\n",
    "\n",
    "\n",
    "def optimal(state: Nim) -> Nimply:\n",
    "    analysis = analize(state)\n",
    "    logging.debug(f\"analysis:\\n{pformat(analysis)}\")\n",
    "    spicy_moves = [ply for ply, ns in analysis[\"possible_moves\"].items() if ns != 0]\n",
    "    if not spicy_moves:\n",
    "        spicy_moves = list(analysis[\"possible_moves\"].keys())\n",
    "    ply = random.choice(spicy_moves)\n",
    "    return ply\n"
   ]
  },
  {
   "cell_type": "markdown",
   "metadata": {},
   "source": [
    "## Oversimplified match"
   ]
  },
  {
   "cell_type": "code",
   "execution_count": 8,
   "metadata": {},
   "outputs": [
    {
     "name": "stderr",
     "output_type": "stream",
     "text": [
      "INFO:root:init : <1 3 5 7 9 11>\n",
      "INFO:root:ply: player 0 plays Nimply(row=4, num_objects=8)\n",
      "INFO:root:status: <1 3 5 7 1 11>\n",
      "INFO:root:ply: player 1 plays Nimply(row=1, num_objects=1)\n",
      "INFO:root:status: <1 2 5 7 1 11>\n",
      "INFO:root:ply: player 0 plays Nimply(row=4, num_objects=1)\n",
      "INFO:root:status: <1 2 5 7 0 11>\n",
      "INFO:root:ply: player 1 plays Nimply(row=1, num_objects=1)\n",
      "INFO:root:status: <1 1 5 7 0 11>\n",
      "INFO:root:ply: player 0 plays Nimply(row=2, num_objects=3)\n",
      "INFO:root:status: <1 1 2 7 0 11>\n",
      "INFO:root:ply: player 1 plays Nimply(row=0, num_objects=1)\n",
      "INFO:root:status: <0 1 2 7 0 11>\n",
      "INFO:root:ply: player 0 plays Nimply(row=3, num_objects=5)\n",
      "INFO:root:status: <0 1 2 2 0 11>\n",
      "INFO:root:ply: player 1 plays Nimply(row=2, num_objects=1)\n",
      "INFO:root:status: <0 1 1 2 0 11>\n",
      "INFO:root:ply: player 0 plays Nimply(row=3, num_objects=2)\n",
      "INFO:root:status: <0 1 1 0 0 11>\n",
      "INFO:root:ply: player 1 plays Nimply(row=2, num_objects=1)\n",
      "INFO:root:status: <0 1 0 0 0 11>\n",
      "INFO:root:ply: player 0 plays Nimply(row=5, num_objects=9)\n",
      "INFO:root:status: <0 1 0 0 0 2>\n",
      "INFO:root:ply: player 1 plays Nimply(row=1, num_objects=1)\n",
      "INFO:root:status: <0 0 0 0 0 2>\n",
      "INFO:root:ply: player 0 plays Nimply(row=5, num_objects=1)\n",
      "INFO:root:status: <0 0 0 0 0 1>\n",
      "INFO:root:ply: player 1 plays Nimply(row=5, num_objects=1)\n",
      "INFO:root:status: <0 0 0 0 0 0>\n",
      "INFO:root:status: Player 0 won!\n"
     ]
    }
   ],
   "source": [
    "logging.getLogger().setLevel(logging.INFO)\n",
    "\n",
    "strategy = (optimal, pure_random)\n",
    "\n",
    "nim = Nim(6)\n",
    "logging.info(f\"init : {nim}\")\n",
    "player = 0\n",
    "while nim:\n",
    "    ply = strategy[player](nim)\n",
    "    logging.info(f\"ply: player {player} plays {ply}\")\n",
    "    nim.nimming(ply)\n",
    "    logging.info(f\"status: {nim}\")\n",
    "    player = 1 - player\n",
    "logging.info(f\"status: Player {player} won!\")"
   ]
  },
  {
   "cell_type": "markdown",
   "metadata": {},
   "source": [
    "# Our Solution"
   ]
  },
  {
   "cell_type": "code",
   "execution_count": 9,
   "metadata": {},
   "outputs": [],
   "source": [
    "NUM_MATCHES = 1000\n",
    "NIM_SIZE = 5\n",
    "N_GAMES_SIMULATED_PER_MOVE = 100\n",
    "\n",
    "USE_SMART = True\n",
    "\n",
    "nim = Nim(NIM_SIZE)"
   ]
  },
  {
   "cell_type": "markdown",
   "metadata": {},
   "source": [
    "## Methods"
   ]
  },
  {
   "cell_type": "code",
   "execution_count": 10,
   "metadata": {},
   "outputs": [],
   "source": [
    "def generate_all_possible_moves(state: Nim) -> list:\n",
    "    return [Nimply(r, o) for r, c in enumerate(state.rows) for o in range(1, c + 1)]\n",
    "\n",
    "def max_num_objects(state: Nim) -> dict:\n",
    "    return {r: c for r, c in enumerate(state.rows)}\n",
    "\n",
    "def smart_sort_moves(state: Nim, possible_moves: list) -> list:\n",
    "    dict_max_nims = max_num_objects(nim)\n",
    "    list_diffs = []\n",
    "\n",
    "    for move in possible_moves: \n",
    "        row = move[0]\n",
    "        num_objects = move[1]\n",
    "        diff = dict_max_nims[row] - num_objects\n",
    "        diff = diff if diff > 0 else float(\"inf\")\n",
    "        list_diffs.append(diff)\n",
    "\n",
    "    # argsort list_diffs\n",
    "    list_diffs = np.array(list_diffs)\n",
    "    list_diffs_args = list_diffs.argsort()\n",
    "\n",
    "    # generate two lists, one with odd and one with even positions \n",
    "    list_odd = []\n",
    "    list_even = []\n",
    "\n",
    "    for i in range(len(list_diffs_args)):\n",
    "        if i%2 == 0:\n",
    "            list_odd.append(list_diffs_args[i])\n",
    "        else:\n",
    "            list_even.append(list_diffs_args[i])\n",
    "\n",
    "    # swap list_odd\n",
    "    gaussian_list = list_odd[::-1]\n",
    "    gaussian_list.extend(list_even)\n",
    "    return gaussian_list\n",
    "\n",
    "def generate_all_possible_moves_smartly(state: Nim) -> list:\n",
    "    possible_moves = generate_all_possible_moves(state)\n",
    "    smart_indexes = smart_sort_moves(state, possible_moves)\n",
    "    smart_moves = [possible_moves[index] for index in smart_indexes]\n",
    "    return smart_moves\n",
    "\n",
    "\n",
    "def sample_gaussian_move(state: Nim, std: float = 3, use_smart: bool = False) -> Nimply:\n",
    "    possible_moves = generate_all_possible_moves(state) if not use_smart else generate_all_possible_moves_smartly(state)\n",
    "    move = round(random.gauss(round(len(possible_moves)/2), std))\n",
    "    move = max(0, min(move, len(possible_moves)-1))\n",
    "    move = int(move)\n",
    "    return possible_moves[move], move\n",
    "\n",
    "def gaussian_sampler(state: Nim, std: float = 3, use_smart: bool = False) -> Nimply:\n",
    "    return sample_gaussian_move(state, std, use_smart=use_smart)[0]\n",
    "\n",
    "def generate_game(state: Nim, use_smart: bool = False, std: float = 3.0) -> tuple:\n",
    "    strategy = (gaussian_sampler, pure_random)\n",
    "    temp_state = deepcopy(state)\n",
    "    first_move = None \n",
    "    player = 0 \n",
    "    while temp_state:\n",
    "        ply = strategy[player](temp_state) if player != 0 else strategy[player](temp_state, use_smart=use_smart, std=std)\n",
    "        first_move = ply if first_move is None else first_move\n",
    "        temp_state.nimming(ply)\n",
    "        player = 1 - player\n",
    "    return (first_move, player)\n",
    "\n",
    "def generate_games(state: Nim, n: int = 1000, use_smart: bool = False, std: float = 3.0) -> list:\n",
    "    return [generate_game(state, use_smart=use_smart, std=std) for _ in range(n)]\n",
    "\n",
    "def choose_best_move(state: Nim, n_games: int = 1000, use_smart: bool = False, std: float = 3.0) -> Nimply:\n",
    "    games = generate_games(state, n_games, use_smart=use_smart, std=std)\n",
    "    winning_moves = np.array([game[0] for game in games if game[1] == 0])\n",
    "    moves, count = np.unique(winning_moves, return_counts=True, axis=0)\n",
    "    best_move = moves[np.argmax(count)] if len(moves) > 0 else generate_all_possible_moves(state)[0]\n",
    "    return Nimply(best_move[0], best_move[1])\n",
    "\n",
    "def our_strategy(state: Nim, use_smart: bool = False, std: float = 3.0) -> Nimply:\n",
    "    return choose_best_move(state, n_games=N_GAMES_SIMULATED_PER_MOVE, use_smart=use_smart, std=std)"
   ]
  },
  {
   "cell_type": "code",
   "execution_count": 11,
   "metadata": {},
   "outputs": [
    {
     "data": {
      "image/png": "[encoded data removed]",
      "text/plain": [
       "<Figure size 640x480 with 1 Axes>"
      ]
     },
     "metadata": {},
     "output_type": "display_data"
    }
   ],
   "source": [
    "def plot_hist_moves(state: Nim, std: float = 3, use_smart: bool = False) -> Nimply:\n",
    "    list = []\n",
    "    for i in range(1000):\n",
    "        _, num = sample_gaussian_move(state=state, std=std, use_smart=use_smart)\n",
    "        list.append(num)\n",
    "\n",
    "    plt.hist(list, bins=state.n_possible_moves(), range=(0,state.n_possible_moves())) \n",
    "    plt.show()\n",
    "\n",
    "plot_hist_moves(nim, use_smart=USE_SMART)\n",
    "# STD makes sense between 2 and 6"
   ]
  },
  {
   "cell_type": "markdown",
   "metadata": {},
   "source": [
    "## Tournament: Choose the best STD"
   ]
  },
  {
   "cell_type": "markdown",
   "metadata": {},
   "source": [
    "Tournament done with 1000 matches between each pair of STDs. The STD with the highest number of wins advances to the next round. The tournament ends when there is only one STD left.\n",
    "\n",
    "Total number of matches in one tournament: 1000 * (8+4+2+1) = 15000\n",
    "\n",
    "#### BEST STDs\n",
    "\n",
    "USE_SMART = True: std = 2.0\n",
    "\n",
    "USE_SMART = False: std = "
   ]
  },
  {
   "cell_type": "code",
   "execution_count": 12,
   "metadata": {},
   "outputs": [],
   "source": [
    "def pairings(std_list: list): \n",
    "    # generate pairings of std\n",
    "    random_std_list = []\n",
    "    assert len(std_list)%2 == 0\n",
    "    \n",
    "    for i in range(int(len(std_list)/2)):\n",
    "        element = random.choice(std_list)\n",
    "        std_list = np.delete(std_list, np.where(std_list == element))\n",
    "        element2 = random.choice(std_list)\n",
    "        std_list = np.delete(std_list, np.where(std_list == element2))\n",
    "        random_std_list.append((element, element2))\n",
    "    return random_std_list\n",
    "\n",
    "def sigma_tournament(std_list: list) -> list:\n",
    "    while len(std_list) > 1: \n",
    "        random_std_list = pairings(std_list)\n",
    "        std_list = []\n",
    "        for std_pair in random_std_list:\n",
    "            std1 = std_pair[0]\n",
    "            std2 = std_pair[1]\n",
    "\n",
    "            std1_wins = 0 \n",
    "            std2_wins = 0\n",
    "\n",
    "            for _ in tqdm(range(NUM_MATCHES)):\n",
    "                nim = Nim(NIM_SIZE)\n",
    "                player = random.randint(0, 1)\n",
    "                while nim:\n",
    "                    ply = our_strategy(nim, std=std1, use_smart=USE_SMART) if player == 0 else our_strategy(nim, std=std2, use_smart=USE_SMART)\n",
    "                    nim.nimming(ply)\n",
    "                    player = 1 - player\n",
    "                std1_wins += 1 if player == 0 else 0\n",
    "                std2_wins += 1 if player == 1 else 0\n",
    "            std_list.append(std1 if std1_wins > std2_wins else std2)\n",
    "    return std_list[0]"
   ]
  },
  {
   "cell_type": "code",
   "execution_count": 13,
   "metadata": {},
   "outputs": [
    {
     "name": "stderr",
     "output_type": "stream",
     "text": [
      "100%|██████████| 1000/1000 [01:45<00:00,  9.47it/s]\n",
      "100%|██████████| 1000/1000 [01:47<00:00,  9.34it/s]\n",
      "100%|██████████| 1000/1000 [01:52<00:00,  8.87it/s]\n",
      "100%|██████████| 1000/1000 [01:58<00:00,  8.42it/s]\n",
      "100%|██████████| 1000/1000 [01:48<00:00,  9.25it/s]\n",
      "100%|██████████| 1000/1000 [01:50<00:00,  9.07it/s]\n",
      "100%|██████████| 1000/1000 [01:48<00:00,  9.25it/s]\n",
      "100%|██████████| 1000/1000 [01:56<00:00,  8.62it/s]\n",
      "100%|██████████| 1000/1000 [01:55<00:00,  8.67it/s]\n",
      "100%|██████████| 1000/1000 [01:49<00:00,  9.12it/s]\n",
      "100%|██████████| 1000/1000 [01:51<00:00,  8.97it/s]\n",
      "100%|██████████| 1000/1000 [01:52<00:00,  8.91it/s]\n",
      "100%|██████████| 1000/1000 [01:45<00:00,  9.51it/s]\n",
      "100%|██████████| 1000/1000 [01:52<00:00,  8.86it/s]\n",
      "100%|██████████| 1000/1000 [01:49<00:00,  9.10it/s]\n"
     ]
    }
   ],
   "source": [
    "std_list = np.linspace(2, 6, 16)\n",
    "std_list = np.round(std_list, 2)\n",
    "\n",
    "best_std_smart = sigma_tournament(std_list)\n",
    "print(best_std_smart)"
   ]
  },
  {
   "cell_type": "code",
   "execution_count": 14,
   "metadata": {},
   "outputs": [],
   "source": [
    "# saved the result after the tournament, to avoid to run it again and again\n",
    "#best_std_smart = 2.0\n",
    "best_std_random = 2.0"
   ]
  },
  {
   "cell_type": "markdown",
   "metadata": {},
   "source": [
    "## Comparison between our solution and the ones provided"
   ]
  },
  {
   "cell_type": "markdown",
   "metadata": {},
   "source": [
    "### Our Solution vs. Pure Random"
   ]
  },
  {
   "cell_type": "code",
   "execution_count": 15,
   "metadata": {},
   "outputs": [
    {
     "name": "stderr",
     "output_type": "stream",
     "text": [
      " 55%|█████▍    | 547/1000 [00:27<00:23, 19.65it/s]\n"
     ]
    },
    {
     "ename": "KeyboardInterrupt",
     "evalue": "",
     "output_type": "error",
     "traceback": [
      "\u001b[1;31m---------------------------------------------------------------------------\u001b[0m",
      "\u001b[1;31mKeyboardInterrupt\u001b[0m                         Traceback (most recent call last)",
      "\u001b[1;32md:\\GitHub\\computational-intelligence-PoliTO\\Laboratory Activities\\Lab2\\lab2-nim.ipynb Cella 25\u001b[0m line \u001b[0;36m1\n\u001b[0;32m     <a href='vscode-notebook-cell:/d%3A/GitHub/computational-intelligence-PoliTO/Laboratory%20Activities/Lab2/lab2-nim.ipynb#X33sZmlsZQ%3D%3D?line=14'>15</a>\u001b[0m             won \u001b[39m+\u001b[39m\u001b[39m=\u001b[39m \u001b[39m1\u001b[39m\n\u001b[0;32m     <a href='vscode-notebook-cell:/d%3A/GitHub/computational-intelligence-PoliTO/Laboratory%20Activities/Lab2/lab2-nim.ipynb#X33sZmlsZQ%3D%3D?line=15'>16</a>\u001b[0m     \u001b[39mreturn\u001b[39;00m \u001b[39mround\u001b[39m(won \u001b[39m/\u001b[39m NUM_MATCHES, \u001b[39m2\u001b[39m)\n\u001b[1;32m---> <a href='vscode-notebook-cell:/d%3A/GitHub/computational-intelligence-PoliTO/Laboratory%20Activities/Lab2/lab2-nim.ipynb#X33sZmlsZQ%3D%3D?line=17'>18</a>\u001b[0m ev_optimalvsexpert \u001b[39m=\u001b[39m evaluate(our_strategy, pure_random)\n\u001b[0;32m     <a href='vscode-notebook-cell:/d%3A/GitHub/computational-intelligence-PoliTO/Laboratory%20Activities/Lab2/lab2-nim.ipynb#X33sZmlsZQ%3D%3D?line=18'>19</a>\u001b[0m \u001b[39mprint\u001b[39m(\u001b[39mf\u001b[39m\u001b[39m\"\u001b[39m\u001b[39mOur Solution vs Opponent => \u001b[39m\u001b[39m{\u001b[39;00mev_optimalvsexpert\u001b[39m}\u001b[39;00m\u001b[39m\"\u001b[39m)\n",
      "\u001b[1;32md:\\GitHub\\computational-intelligence-PoliTO\\Laboratory Activities\\Lab2\\lab2-nim.ipynb Cella 25\u001b[0m line \u001b[0;36m1\n\u001b[0;32m      <a href='vscode-notebook-cell:/d%3A/GitHub/computational-intelligence-PoliTO/Laboratory%20Activities/Lab2/lab2-nim.ipynb#X33sZmlsZQ%3D%3D?line=8'>9</a>\u001b[0m player \u001b[39m=\u001b[39m random\u001b[39m.\u001b[39mrandint(\u001b[39m0\u001b[39m,\u001b[39m1\u001b[39m) \u001b[39m# make a random start\u001b[39;00m\n\u001b[0;32m     <a href='vscode-notebook-cell:/d%3A/GitHub/computational-intelligence-PoliTO/Laboratory%20Activities/Lab2/lab2-nim.ipynb#X33sZmlsZQ%3D%3D?line=9'>10</a>\u001b[0m \u001b[39mwhile\u001b[39;00m nim:\n\u001b[1;32m---> <a href='vscode-notebook-cell:/d%3A/GitHub/computational-intelligence-PoliTO/Laboratory%20Activities/Lab2/lab2-nim.ipynb#X33sZmlsZQ%3D%3D?line=10'>11</a>\u001b[0m     ply \u001b[39m=\u001b[39m players[player](nim) \u001b[39mif\u001b[39;00m player \u001b[39m!=\u001b[39m \u001b[39m0\u001b[39m \u001b[39melse\u001b[39;00m players[player](nim, use_smart\u001b[39m=\u001b[39;49mUSE_SMART, std\u001b[39m=\u001b[39;49mbest_std_smart \u001b[39mif\u001b[39;49;00m USE_SMART \u001b[39melse\u001b[39;49;00m best_std_random)\n\u001b[0;32m     <a href='vscode-notebook-cell:/d%3A/GitHub/computational-intelligence-PoliTO/Laboratory%20Activities/Lab2/lab2-nim.ipynb#X33sZmlsZQ%3D%3D?line=11'>12</a>\u001b[0m     nim\u001b[39m.\u001b[39mnimming(ply)\n\u001b[0;32m     <a href='vscode-notebook-cell:/d%3A/GitHub/computational-intelligence-PoliTO/Laboratory%20Activities/Lab2/lab2-nim.ipynb#X33sZmlsZQ%3D%3D?line=12'>13</a>\u001b[0m     player \u001b[39m=\u001b[39m \u001b[39m1\u001b[39m \u001b[39m-\u001b[39m player\n",
      "\u001b[1;32md:\\GitHub\\computational-intelligence-PoliTO\\Laboratory Activities\\Lab2\\lab2-nim.ipynb Cella 25\u001b[0m line \u001b[0;36m7\n\u001b[0;32m     <a href='vscode-notebook-cell:/d%3A/GitHub/computational-intelligence-PoliTO/Laboratory%20Activities/Lab2/lab2-nim.ipynb#X33sZmlsZQ%3D%3D?line=75'>76</a>\u001b[0m \u001b[39mdef\u001b[39;00m \u001b[39mour_strategy\u001b[39m(state: Nim, use_smart: \u001b[39mbool\u001b[39m \u001b[39m=\u001b[39m \u001b[39mFalse\u001b[39;00m, std: \u001b[39mfloat\u001b[39m \u001b[39m=\u001b[39m \u001b[39m3.0\u001b[39m) \u001b[39m-\u001b[39m\u001b[39m>\u001b[39m Nimply:\n\u001b[1;32m---> <a href='vscode-notebook-cell:/d%3A/GitHub/computational-intelligence-PoliTO/Laboratory%20Activities/Lab2/lab2-nim.ipynb#X33sZmlsZQ%3D%3D?line=76'>77</a>\u001b[0m     \u001b[39mreturn\u001b[39;00m choose_best_move(state, n_games\u001b[39m=\u001b[39;49mN_GAMES_SIMULATED_PER_MOVE, use_smart\u001b[39m=\u001b[39;49muse_smart, std\u001b[39m=\u001b[39;49mstd)\n",
      "\u001b[1;32md:\\GitHub\\computational-intelligence-PoliTO\\Laboratory Activities\\Lab2\\lab2-nim.ipynb Cella 25\u001b[0m line \u001b[0;36m7\n\u001b[0;32m     <a href='vscode-notebook-cell:/d%3A/GitHub/computational-intelligence-PoliTO/Laboratory%20Activities/Lab2/lab2-nim.ipynb#X33sZmlsZQ%3D%3D?line=68'>69</a>\u001b[0m \u001b[39mdef\u001b[39;00m \u001b[39mchoose_best_move\u001b[39m(state: Nim, n_games: \u001b[39mint\u001b[39m \u001b[39m=\u001b[39m \u001b[39m1000\u001b[39m, use_smart: \u001b[39mbool\u001b[39m \u001b[39m=\u001b[39m \u001b[39mFalse\u001b[39;00m, std: \u001b[39mfloat\u001b[39m \u001b[39m=\u001b[39m \u001b[39m3.0\u001b[39m) \u001b[39m-\u001b[39m\u001b[39m>\u001b[39m Nimply:\n\u001b[1;32m---> <a href='vscode-notebook-cell:/d%3A/GitHub/computational-intelligence-PoliTO/Laboratory%20Activities/Lab2/lab2-nim.ipynb#X33sZmlsZQ%3D%3D?line=69'>70</a>\u001b[0m     games \u001b[39m=\u001b[39m generate_games(state, n_games, use_smart\u001b[39m=\u001b[39;49muse_smart, std\u001b[39m=\u001b[39;49mstd)\n\u001b[0;32m     <a href='vscode-notebook-cell:/d%3A/GitHub/computational-intelligence-PoliTO/Laboratory%20Activities/Lab2/lab2-nim.ipynb#X33sZmlsZQ%3D%3D?line=70'>71</a>\u001b[0m     winning_moves \u001b[39m=\u001b[39m np\u001b[39m.\u001b[39marray([game[\u001b[39m0\u001b[39m] \u001b[39mfor\u001b[39;00m game \u001b[39min\u001b[39;00m games \u001b[39mif\u001b[39;00m game[\u001b[39m1\u001b[39m] \u001b[39m==\u001b[39m \u001b[39m0\u001b[39m])\n\u001b[0;32m     <a href='vscode-notebook-cell:/d%3A/GitHub/computational-intelligence-PoliTO/Laboratory%20Activities/Lab2/lab2-nim.ipynb#X33sZmlsZQ%3D%3D?line=71'>72</a>\u001b[0m     moves, count \u001b[39m=\u001b[39m np\u001b[39m.\u001b[39munique(winning_moves, return_counts\u001b[39m=\u001b[39m\u001b[39mTrue\u001b[39;00m, axis\u001b[39m=\u001b[39m\u001b[39m0\u001b[39m)\n",
      "\u001b[1;32md:\\GitHub\\computational-intelligence-PoliTO\\Laboratory Activities\\Lab2\\lab2-nim.ipynb Cella 25\u001b[0m line \u001b[0;36m6\n\u001b[0;32m     <a href='vscode-notebook-cell:/d%3A/GitHub/computational-intelligence-PoliTO/Laboratory%20Activities/Lab2/lab2-nim.ipynb#X33sZmlsZQ%3D%3D?line=65'>66</a>\u001b[0m \u001b[39mdef\u001b[39;00m \u001b[39mgenerate_games\u001b[39m(state: Nim, n: \u001b[39mint\u001b[39m \u001b[39m=\u001b[39m \u001b[39m1000\u001b[39m, use_smart: \u001b[39mbool\u001b[39m \u001b[39m=\u001b[39m \u001b[39mFalse\u001b[39;00m, std: \u001b[39mfloat\u001b[39m \u001b[39m=\u001b[39m \u001b[39m3.0\u001b[39m) \u001b[39m-\u001b[39m\u001b[39m>\u001b[39m \u001b[39mlist\u001b[39m:\n\u001b[1;32m---> <a href='vscode-notebook-cell:/d%3A/GitHub/computational-intelligence-PoliTO/Laboratory%20Activities/Lab2/lab2-nim.ipynb#X33sZmlsZQ%3D%3D?line=66'>67</a>\u001b[0m     \u001b[39mreturn\u001b[39;00m [generate_game(state, use_smart\u001b[39m=\u001b[39muse_smart, std\u001b[39m=\u001b[39mstd) \u001b[39mfor\u001b[39;00m _ \u001b[39min\u001b[39;00m \u001b[39mrange\u001b[39m(n)]\n",
      "\u001b[1;32md:\\GitHub\\computational-intelligence-PoliTO\\Laboratory Activities\\Lab2\\lab2-nim.ipynb Cella 25\u001b[0m line \u001b[0;36m6\n\u001b[0;32m     <a href='vscode-notebook-cell:/d%3A/GitHub/computational-intelligence-PoliTO/Laboratory%20Activities/Lab2/lab2-nim.ipynb#X33sZmlsZQ%3D%3D?line=65'>66</a>\u001b[0m \u001b[39mdef\u001b[39;00m \u001b[39mgenerate_games\u001b[39m(state: Nim, n: \u001b[39mint\u001b[39m \u001b[39m=\u001b[39m \u001b[39m1000\u001b[39m, use_smart: \u001b[39mbool\u001b[39m \u001b[39m=\u001b[39m \u001b[39mFalse\u001b[39;00m, std: \u001b[39mfloat\u001b[39m \u001b[39m=\u001b[39m \u001b[39m3.0\u001b[39m) \u001b[39m-\u001b[39m\u001b[39m>\u001b[39m \u001b[39mlist\u001b[39m:\n\u001b[1;32m---> <a href='vscode-notebook-cell:/d%3A/GitHub/computational-intelligence-PoliTO/Laboratory%20Activities/Lab2/lab2-nim.ipynb#X33sZmlsZQ%3D%3D?line=66'>67</a>\u001b[0m     \u001b[39mreturn\u001b[39;00m [generate_game(state, use_smart\u001b[39m=\u001b[39;49muse_smart, std\u001b[39m=\u001b[39;49mstd) \u001b[39mfor\u001b[39;00m _ \u001b[39min\u001b[39;00m \u001b[39mrange\u001b[39m(n)]\n",
      "\u001b[1;32md:\\GitHub\\computational-intelligence-PoliTO\\Laboratory Activities\\Lab2\\lab2-nim.ipynb Cella 25\u001b[0m line \u001b[0;36m6\n\u001b[0;32m     <a href='vscode-notebook-cell:/d%3A/GitHub/computational-intelligence-PoliTO/Laboratory%20Activities/Lab2/lab2-nim.ipynb#X33sZmlsZQ%3D%3D?line=57'>58</a>\u001b[0m player \u001b[39m=\u001b[39m \u001b[39m0\u001b[39m \n\u001b[0;32m     <a href='vscode-notebook-cell:/d%3A/GitHub/computational-intelligence-PoliTO/Laboratory%20Activities/Lab2/lab2-nim.ipynb#X33sZmlsZQ%3D%3D?line=58'>59</a>\u001b[0m \u001b[39mwhile\u001b[39;00m temp_state:\n\u001b[1;32m---> <a href='vscode-notebook-cell:/d%3A/GitHub/computational-intelligence-PoliTO/Laboratory%20Activities/Lab2/lab2-nim.ipynb#X33sZmlsZQ%3D%3D?line=59'>60</a>\u001b[0m     ply \u001b[39m=\u001b[39m strategy[player](temp_state) \u001b[39mif\u001b[39;00m player \u001b[39m!=\u001b[39m \u001b[39m0\u001b[39m \u001b[39melse\u001b[39;00m strategy[player](temp_state, use_smart\u001b[39m=\u001b[39;49muse_smart, std\u001b[39m=\u001b[39;49mstd)\n\u001b[0;32m     <a href='vscode-notebook-cell:/d%3A/GitHub/computational-intelligence-PoliTO/Laboratory%20Activities/Lab2/lab2-nim.ipynb#X33sZmlsZQ%3D%3D?line=60'>61</a>\u001b[0m     first_move \u001b[39m=\u001b[39m ply \u001b[39mif\u001b[39;00m first_move \u001b[39mis\u001b[39;00m \u001b[39mNone\u001b[39;00m \u001b[39melse\u001b[39;00m first_move\n\u001b[0;32m     <a href='vscode-notebook-cell:/d%3A/GitHub/computational-intelligence-PoliTO/Laboratory%20Activities/Lab2/lab2-nim.ipynb#X33sZmlsZQ%3D%3D?line=61'>62</a>\u001b[0m     temp_state\u001b[39m.\u001b[39mnimming(ply)\n",
      "\u001b[1;32md:\\GitHub\\computational-intelligence-PoliTO\\Laboratory Activities\\Lab2\\lab2-nim.ipynb Cella 25\u001b[0m line \u001b[0;36m5\n\u001b[0;32m     <a href='vscode-notebook-cell:/d%3A/GitHub/computational-intelligence-PoliTO/Laboratory%20Activities/Lab2/lab2-nim.ipynb#X33sZmlsZQ%3D%3D?line=50'>51</a>\u001b[0m \u001b[39mdef\u001b[39;00m \u001b[39mgaussian_sampler\u001b[39m(state: Nim, std: \u001b[39mfloat\u001b[39m \u001b[39m=\u001b[39m \u001b[39m3\u001b[39m, use_smart: \u001b[39mbool\u001b[39m \u001b[39m=\u001b[39m \u001b[39mFalse\u001b[39;00m) \u001b[39m-\u001b[39m\u001b[39m>\u001b[39m Nimply:\n\u001b[1;32m---> <a href='vscode-notebook-cell:/d%3A/GitHub/computational-intelligence-PoliTO/Laboratory%20Activities/Lab2/lab2-nim.ipynb#X33sZmlsZQ%3D%3D?line=51'>52</a>\u001b[0m     \u001b[39mreturn\u001b[39;00m sample_gaussian_move(state, std, use_smart\u001b[39m=\u001b[39;49muse_smart)[\u001b[39m0\u001b[39m]\n",
      "\u001b[1;32md:\\GitHub\\computational-intelligence-PoliTO\\Laboratory Activities\\Lab2\\lab2-nim.ipynb Cella 25\u001b[0m line \u001b[0;36m4\n\u001b[0;32m     <a href='vscode-notebook-cell:/d%3A/GitHub/computational-intelligence-PoliTO/Laboratory%20Activities/Lab2/lab2-nim.ipynb#X33sZmlsZQ%3D%3D?line=43'>44</a>\u001b[0m \u001b[39mdef\u001b[39;00m \u001b[39msample_gaussian_move\u001b[39m(state: Nim, std: \u001b[39mfloat\u001b[39m \u001b[39m=\u001b[39m \u001b[39m3\u001b[39m, use_smart: \u001b[39mbool\u001b[39m \u001b[39m=\u001b[39m \u001b[39mFalse\u001b[39;00m) \u001b[39m-\u001b[39m\u001b[39m>\u001b[39m Nimply:\n\u001b[1;32m---> <a href='vscode-notebook-cell:/d%3A/GitHub/computational-intelligence-PoliTO/Laboratory%20Activities/Lab2/lab2-nim.ipynb#X33sZmlsZQ%3D%3D?line=44'>45</a>\u001b[0m     possible_moves \u001b[39m=\u001b[39m generate_all_possible_moves(state) \u001b[39mif\u001b[39;00m \u001b[39mnot\u001b[39;00m use_smart \u001b[39melse\u001b[39;00m generate_all_possible_moves_smartly(state)\n\u001b[0;32m     <a href='vscode-notebook-cell:/d%3A/GitHub/computational-intelligence-PoliTO/Laboratory%20Activities/Lab2/lab2-nim.ipynb#X33sZmlsZQ%3D%3D?line=45'>46</a>\u001b[0m     move \u001b[39m=\u001b[39m \u001b[39mround\u001b[39m(random\u001b[39m.\u001b[39mgauss(\u001b[39mround\u001b[39m(\u001b[39mlen\u001b[39m(possible_moves)\u001b[39m/\u001b[39m\u001b[39m2\u001b[39m), std))\n\u001b[0;32m     <a href='vscode-notebook-cell:/d%3A/GitHub/computational-intelligence-PoliTO/Laboratory%20Activities/Lab2/lab2-nim.ipynb#X33sZmlsZQ%3D%3D?line=46'>47</a>\u001b[0m     move \u001b[39m=\u001b[39m \u001b[39mmax\u001b[39m(\u001b[39m0\u001b[39m, \u001b[39mmin\u001b[39m(move, \u001b[39mlen\u001b[39m(possible_moves)\u001b[39m-\u001b[39m\u001b[39m1\u001b[39m))\n",
      "\u001b[1;32md:\\GitHub\\computational-intelligence-PoliTO\\Laboratory Activities\\Lab2\\lab2-nim.ipynb Cella 25\u001b[0m line \u001b[0;36m3\n\u001b[0;32m     <a href='vscode-notebook-cell:/d%3A/GitHub/computational-intelligence-PoliTO/Laboratory%20Activities/Lab2/lab2-nim.ipynb#X33sZmlsZQ%3D%3D?line=36'>37</a>\u001b[0m \u001b[39mdef\u001b[39;00m \u001b[39mgenerate_all_possible_moves_smartly\u001b[39m(state: Nim) \u001b[39m-\u001b[39m\u001b[39m>\u001b[39m \u001b[39mlist\u001b[39m:\n\u001b[0;32m     <a href='vscode-notebook-cell:/d%3A/GitHub/computational-intelligence-PoliTO/Laboratory%20Activities/Lab2/lab2-nim.ipynb#X33sZmlsZQ%3D%3D?line=37'>38</a>\u001b[0m     possible_moves \u001b[39m=\u001b[39m generate_all_possible_moves(state)\n\u001b[1;32m---> <a href='vscode-notebook-cell:/d%3A/GitHub/computational-intelligence-PoliTO/Laboratory%20Activities/Lab2/lab2-nim.ipynb#X33sZmlsZQ%3D%3D?line=38'>39</a>\u001b[0m     smart_indexes \u001b[39m=\u001b[39m smart_sort_moves(state, possible_moves)\n\u001b[0;32m     <a href='vscode-notebook-cell:/d%3A/GitHub/computational-intelligence-PoliTO/Laboratory%20Activities/Lab2/lab2-nim.ipynb#X33sZmlsZQ%3D%3D?line=39'>40</a>\u001b[0m     smart_moves \u001b[39m=\u001b[39m [possible_moves[index] \u001b[39mfor\u001b[39;00m index \u001b[39min\u001b[39;00m smart_indexes]\n\u001b[0;32m     <a href='vscode-notebook-cell:/d%3A/GitHub/computational-intelligence-PoliTO/Laboratory%20Activities/Lab2/lab2-nim.ipynb#X33sZmlsZQ%3D%3D?line=40'>41</a>\u001b[0m     \u001b[39mreturn\u001b[39;00m smart_moves\n",
      "\u001b[1;32md:\\GitHub\\computational-intelligence-PoliTO\\Laboratory Activities\\Lab2\\lab2-nim.ipynb Cella 25\u001b[0m line \u001b[0;36m2\n\u001b[0;32m     <a href='vscode-notebook-cell:/d%3A/GitHub/computational-intelligence-PoliTO/Laboratory%20Activities/Lab2/lab2-nim.ipynb#X33sZmlsZQ%3D%3D?line=17'>18</a>\u001b[0m \u001b[39m# argsort list_diffs\u001b[39;00m\n\u001b[0;32m     <a href='vscode-notebook-cell:/d%3A/GitHub/computational-intelligence-PoliTO/Laboratory%20Activities/Lab2/lab2-nim.ipynb#X33sZmlsZQ%3D%3D?line=18'>19</a>\u001b[0m list_diffs \u001b[39m=\u001b[39m np\u001b[39m.\u001b[39marray(list_diffs)\n\u001b[1;32m---> <a href='vscode-notebook-cell:/d%3A/GitHub/computational-intelligence-PoliTO/Laboratory%20Activities/Lab2/lab2-nim.ipynb#X33sZmlsZQ%3D%3D?line=19'>20</a>\u001b[0m list_diffs_args \u001b[39m=\u001b[39m list_diffs\u001b[39m.\u001b[39;49margsort()\n\u001b[0;32m     <a href='vscode-notebook-cell:/d%3A/GitHub/computational-intelligence-PoliTO/Laboratory%20Activities/Lab2/lab2-nim.ipynb#X33sZmlsZQ%3D%3D?line=21'>22</a>\u001b[0m \u001b[39m# generate two lists, one with odd and one with even positions \u001b[39;00m\n\u001b[0;32m     <a href='vscode-notebook-cell:/d%3A/GitHub/computational-intelligence-PoliTO/Laboratory%20Activities/Lab2/lab2-nim.ipynb#X33sZmlsZQ%3D%3D?line=22'>23</a>\u001b[0m list_odd \u001b[39m=\u001b[39m []\n",
      "\u001b[1;31mKeyboardInterrupt\u001b[0m: "
     ]
    }
   ],
   "source": [
    "def evaluate(strategy1, strategy2):\n",
    "    \"\"\"evaluate put a first strategy versus a second one for a certain number of times, the results is the ratio \n",
    "    between the won matches and the total number of played matches\"\"\"\n",
    "    players = (strategy1, strategy2)\n",
    "    won = 0\n",
    "\n",
    "    for _ in tqdm(range(NUM_MATCHES)):\n",
    "        nim = Nim(NIM_SIZE)\n",
    "        player = random.randint(0,1) # make a random start\n",
    "        while nim:\n",
    "            ply = players[player](nim) if player != 0 else players[player](nim, use_smart=USE_SMART, std=best_std_smart if USE_SMART else best_std_random)\n",
    "            nim.nimming(ply)\n",
    "            player = 1 - player\n",
    "        if player == 0:\n",
    "            won += 1\n",
    "    return round(won / NUM_MATCHES, 2)\n",
    "\n",
    "ev_optimalvsexpert = evaluate(our_strategy, pure_random)\n",
    "print(f\"Our Solution vs Opponent => {ev_optimalvsexpert}\")"
   ]
  },
  {
   "cell_type": "markdown",
   "metadata": {},
   "source": [
    "### Our Solution vs. Gabriele's Solution"
   ]
  },
  {
   "cell_type": "code",
   "execution_count": null,
   "metadata": {},
   "outputs": [],
   "source": [
    "def evaluate(strategy1, strategy2):\n",
    "    \"\"\"evaluate put a first strategy versus a second one for a certain number of times, the results is the ratio \n",
    "    between the won matches and the total number of played matches\"\"\"\n",
    "    players = (strategy1, strategy2)\n",
    "    won = 0\n",
    "\n",
    "    for _ in tqdm(range(NUM_MATCHES)):\n",
    "        nim = Nim(NIM_SIZE)\n",
    "        player = random.randint(0,1) # make a random start\n",
    "        while nim:\n",
    "            ply = players[player](nim) if player != 0 else players[player](nim, use_smart=USE_SMART, std=best_std_smart if USE_SMART else best_std_random)\n",
    "            nim.nimming(ply)\n",
    "            player = 1 - player\n",
    "        if player == 0:\n",
    "            won += 1\n",
    "    return round(won / NUM_MATCHES, 2)\n",
    "\n",
    "ev_optimalvsexpert = evaluate(our_strategy, gabriele)\n",
    "print(f\"Our Solution vs Opponent => {ev_optimalvsexpert}\")"
   ]
  },
  {
   "cell_type": "markdown",
   "metadata": {},
   "source": [
    "### Smart vs. Random Array "
   ]
  },
  {
   "cell_type": "code",
   "execution_count": null,
   "metadata": {},
   "outputs": [],
   "source": [
    "def evaluate(strategy1, strategy2):\n",
    "    \"\"\"evaluate put a first strategy versus a second one for a certain number of times, the results is the ratio \n",
    "    between the won matches and the total number of played matches\"\"\"\n",
    "    players = (strategy1, strategy2)\n",
    "    won = 0\n",
    "\n",
    "    for _ in tqdm(range(NUM_MATCHES)):\n",
    "        nim = Nim(NIM_SIZE)\n",
    "        player = random.randint(0,1) # make a random start\n",
    "        while nim:\n",
    "            ply = players[player](nim, use_smart = False, std = best_std_random) if player != 0 else players[player](nim, use_smart=True, std=best_std_smart)\n",
    "            nim.nimming(ply)\n",
    "            player = 1 - player\n",
    "        if player == 0:\n",
    "            won += 1\n",
    "    return round(won / NUM_MATCHES, 2)\n",
    "\n",
    "ev_optimalvsexpert = evaluate(our_strategy, our_strategy)\n",
    "print(f\"Our Smart Solution vs Our 'Random' Solution => {ev_optimalvsexpert}\")"
   ]
  },
  {
   "cell_type": "code",
   "execution_count": null,
   "metadata": {},
   "outputs": [],
   "source": []
  }
 ],
 "metadata": {
  "kernelspec": {
   "display_name": "Python 3.10.7 ('ci22-dPIXJ0_o-py3.10')",
   "language": "python",
   "name": "python3"
  },
  "language_info": {
   "codemirror_mode": {
    "name": "ipython",
    "version": 3
   },
   "file_extension": ".py",
   "mimetype": "text/x-python",
   "name": "python",
   "nbconvert_exporter": "python",
   "pygments_lexer": "ipython3",
   "version": "3.10.11"
  },
  "vscode": {
   "interpreter": {
    "hash": "10197e8e2f2aa67e2c349105091c77f4cd384fce4877865f002d9ec653f96bc0"
   }
  }
 },
 "nbformat": 4,
 "nbformat_minor": 2
}
